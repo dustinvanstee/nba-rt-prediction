{
 "cells": [
  {
   "cell_type": "markdown",
   "metadata": {},
   "source": [
    "#Load in Files"
   ]
  },
  {
   "cell_type": "markdown",
   "metadata": {},
   "source": [
    "### Imports"
   ]
  },
  {
   "cell_type": "code",
   "execution_count": 1,
   "metadata": {},
   "outputs": [
    {
     "data": {
      "text/plain": [
       "u'2.2.0'"
      ]
     },
     "execution_count": 1,
     "metadata": {},
     "output_type": "execute_result"
    }
   ],
   "source": [
    "spark.version"
   ]
  },
  {
   "cell_type": "code",
   "execution_count": 4,
   "metadata": {
    "collapsed": true
   },
   "outputs": [],
   "source": [
    "import re\n",
    "import datetime\n",
    "from pyspark.sql.functions import *\n",
    "import pandas as pd\n",
    "pd.set_option('display.max_colwidth', 80)\n",
    "\n",
    "\n",
    "\n",
    "\n",
    "import numpy as np\n",
    "import seaborn as sns\n",
    "sns.set_palette(\"deep\", desat=0.6)\n",
    "sns.set_context(rc={\"figure.figsize\": (8,4)})\n",
    "\n",
    "import matplotlib.pyplot as plt\n",
    "%matplotlib notebook\n",
    "%matplotlib inline"
   ]
  },
  {
   "cell_type": "markdown",
   "metadata": {},
   "source": [
    "### Load In NBA Score Data Set"
   ]
  },
  {
   "cell_type": "code",
   "execution_count": 8,
   "metadata": {},
   "outputs": [],
   "source": [
    "cleaned_dir = '/data2/nba-rt-prediction/sparkfiles/cleanedDF'\n",
    "df = spark.read.format('csv')\\\n",
    "                    .option(\"header\", \"true\")\\\n",
    "                    .option(\"inferSchema\", \"true\")\\\n",
    "                    .option(\"dateFormat\", \"yyyy-MM-dd\")\\\n",
    "                    .load(cleaned_dir).coalesce(2)\n",
    "\n",
    "                # For some reason my key is none upon load ! Rebuild\n",
    "df = df.withColumn(\"key\", concat(date_format(df.dateOrig, \"yyyy-MM-dd\"),lit(\".\"),col(\"away_team\"),lit(\".\"),col(\"home_team\")))\n",
    "            \n",
    "#df.printSchema()\n",
    "df_pd_X= df.select([\"home_score\", \"away_score\", \"score_diff_amh\", \"home_team_spread\",\"pct_complete\"]).toPandas()\n",
    "X = df_pd_X.values\n",
    "df_pd_Y= df.select([\"home_win\"]).toPandas()\n",
    "Y = df_pd_Y.values"
   ]
  },
  {
   "cell_type": "code",
   "execution_count": 9,
   "metadata": {},
   "outputs": [
    {
     "data": {
      "text/plain": [
       "array([[ 86.80487805,  95.77235772,   8.96747967,  11.66666667,\n",
       "         97.91666667],\n",
       "       [ 85.34146341,  94.06504065,   8.72357724,  11.66666667,  96.875     ],\n",
       "       [ 83.87804878,  92.35772358,   8.4796748 ,  11.66666667,\n",
       "         95.83333333],\n",
       "       ..., \n",
       "       [  0.8       ,   0.        ,  -0.8       ,  -6.        ,\n",
       "          2.08333333],\n",
       "       [  0.        ,   0.        ,   0.        ,  -6.        ,\n",
       "          1.04166667],\n",
       "       [  0.        ,   0.        ,   0.        ,  -6.        ,   0.        ]])"
      ]
     },
     "execution_count": 9,
     "metadata": {},
     "output_type": "execute_result"
    }
   ],
   "source": [
    "X\n",
    "# Create Train / cv or Dev / Test Sets"
   ]
  },
  {
   "cell_type": "code",
   "execution_count": 5,
   "metadata": {},
   "outputs": [
    {
     "name": "stdout",
     "output_type": "stream",
     "text": [
      "Training set size: 6800\n",
      "CrossVal set size: 2195\n",
      "Testing set size: 2375\n"
     ]
    }
   ],
   "source": [
    "trainingData, cvData, testData = df.randomSplit([0.6, 0.2, 0.2], seed = 82)\n",
    "print \"Training set size: \" + str(trainingData.count())\n",
    "print \"CrossVal set size: \" + str(cvData.count())\n",
    "print \"Testing set size: \" + str(testData.count())\n",
    "#print \"Distribution of Default and Non-Default in trainingData is: \", trainingData.groupBy(\"label\").count().take(3)\n"
   ]
  },
  {
   "cell_type": "code",
   "execution_count": 10,
   "metadata": {
    "collapsed": true
   },
   "outputs": [],
   "source": [
    "### Use DNN Keras"
   ]
  },
  {
   "cell_type": "code",
   "execution_count": 11,
   "metadata": {},
   "outputs": [
    {
     "name": "stderr",
     "output_type": "stream",
     "text": [
      "Using TensorFlow backend.\n"
     ]
    },
    {
     "ename": "ImportError",
     "evalue": "No module named tensorflow",
     "output_type": "error",
     "traceback": [
      "\u001b[0;31m---------------------------------------------------------------------------\u001b[0m",
      "\u001b[0;31mImportError\u001b[0m                               Traceback (most recent call last)",
      "\u001b[0;32m<ipython-input-11-01dc1ee269c6>\u001b[0m in \u001b[0;36m<module>\u001b[0;34m()\u001b[0m\n\u001b[0;32m----> 1\u001b[0;31m \u001b[0;32mfrom\u001b[0m \u001b[0mkeras\u001b[0m\u001b[0;34m.\u001b[0m\u001b[0mmodels\u001b[0m \u001b[0;32mimport\u001b[0m \u001b[0mSequential\u001b[0m\u001b[0;34m\u001b[0m\u001b[0m\n\u001b[0m\u001b[1;32m      2\u001b[0m \u001b[0;32mfrom\u001b[0m \u001b[0mkeras\u001b[0m\u001b[0;34m.\u001b[0m\u001b[0mlayers\u001b[0m\u001b[0;34m.\u001b[0m\u001b[0mcore\u001b[0m \u001b[0;32mimport\u001b[0m \u001b[0mDense\u001b[0m\u001b[0;34m,\u001b[0m \u001b[0mActivation\u001b[0m\u001b[0;34m\u001b[0m\u001b[0m\n\u001b[1;32m      3\u001b[0m \u001b[0;32mfrom\u001b[0m \u001b[0mkeras\u001b[0m\u001b[0;34m.\u001b[0m\u001b[0mutils\u001b[0m \u001b[0;32mimport\u001b[0m \u001b[0mnp_utils\u001b[0m\u001b[0;34m\u001b[0m\u001b[0m\n",
      "\u001b[0;32m/usr/local/lib/python2.7/dist-packages/keras/__init__.py\u001b[0m in \u001b[0;36m<module>\u001b[0;34m()\u001b[0m\n\u001b[1;32m      1\u001b[0m \u001b[0;32mfrom\u001b[0m \u001b[0m__future__\u001b[0m \u001b[0;32mimport\u001b[0m \u001b[0mabsolute_import\u001b[0m\u001b[0;34m\u001b[0m\u001b[0m\n\u001b[1;32m      2\u001b[0m \u001b[0;34m\u001b[0m\u001b[0m\n\u001b[0;32m----> 3\u001b[0;31m \u001b[0;32mfrom\u001b[0m \u001b[0;34m.\u001b[0m \u001b[0;32mimport\u001b[0m \u001b[0mutils\u001b[0m\u001b[0;34m\u001b[0m\u001b[0m\n\u001b[0m\u001b[1;32m      4\u001b[0m \u001b[0;32mfrom\u001b[0m \u001b[0;34m.\u001b[0m \u001b[0;32mimport\u001b[0m \u001b[0mactivations\u001b[0m\u001b[0;34m\u001b[0m\u001b[0m\n\u001b[1;32m      5\u001b[0m \u001b[0;32mfrom\u001b[0m \u001b[0;34m.\u001b[0m \u001b[0;32mimport\u001b[0m \u001b[0mapplications\u001b[0m\u001b[0;34m\u001b[0m\u001b[0m\n",
      "\u001b[0;32m/usr/local/lib/python2.7/dist-packages/keras/utils/__init__.py\u001b[0m in \u001b[0;36m<module>\u001b[0;34m()\u001b[0m\n\u001b[1;32m      4\u001b[0m \u001b[0;32mfrom\u001b[0m \u001b[0;34m.\u001b[0m \u001b[0;32mimport\u001b[0m \u001b[0mdata_utils\u001b[0m\u001b[0;34m\u001b[0m\u001b[0m\n\u001b[1;32m      5\u001b[0m \u001b[0;32mfrom\u001b[0m \u001b[0;34m.\u001b[0m \u001b[0;32mimport\u001b[0m \u001b[0mio_utils\u001b[0m\u001b[0;34m\u001b[0m\u001b[0m\n\u001b[0;32m----> 6\u001b[0;31m \u001b[0;32mfrom\u001b[0m \u001b[0;34m.\u001b[0m \u001b[0;32mimport\u001b[0m \u001b[0mconv_utils\u001b[0m\u001b[0;34m\u001b[0m\u001b[0m\n\u001b[0m\u001b[1;32m      7\u001b[0m \u001b[0;34m\u001b[0m\u001b[0m\n\u001b[1;32m      8\u001b[0m \u001b[0;31m# Globally-importable utils.\u001b[0m\u001b[0;34m\u001b[0m\u001b[0;34m\u001b[0m\u001b[0m\n",
      "\u001b[0;32m/usr/local/lib/python2.7/dist-packages/keras/utils/conv_utils.py\u001b[0m in \u001b[0;36m<module>\u001b[0;34m()\u001b[0m\n\u001b[1;32m      1\u001b[0m \u001b[0;32mfrom\u001b[0m \u001b[0msix\u001b[0m\u001b[0;34m.\u001b[0m\u001b[0mmoves\u001b[0m \u001b[0;32mimport\u001b[0m \u001b[0mrange\u001b[0m\u001b[0;34m\u001b[0m\u001b[0m\n\u001b[1;32m      2\u001b[0m \u001b[0;32mimport\u001b[0m \u001b[0mnumpy\u001b[0m \u001b[0;32mas\u001b[0m \u001b[0mnp\u001b[0m\u001b[0;34m\u001b[0m\u001b[0m\n\u001b[0;32m----> 3\u001b[0;31m \u001b[0;32mfrom\u001b[0m \u001b[0;34m.\u001b[0m\u001b[0;34m.\u001b[0m \u001b[0;32mimport\u001b[0m \u001b[0mbackend\u001b[0m \u001b[0;32mas\u001b[0m \u001b[0mK\u001b[0m\u001b[0;34m\u001b[0m\u001b[0m\n\u001b[0m\u001b[1;32m      4\u001b[0m \u001b[0;34m\u001b[0m\u001b[0m\n\u001b[1;32m      5\u001b[0m \u001b[0;34m\u001b[0m\u001b[0m\n",
      "\u001b[0;32m/usr/local/lib/python2.7/dist-packages/keras/backend/__init__.py\u001b[0m in \u001b[0;36m<module>\u001b[0;34m()\u001b[0m\n\u001b[1;32m     81\u001b[0m \u001b[0;32melif\u001b[0m \u001b[0m_BACKEND\u001b[0m \u001b[0;34m==\u001b[0m \u001b[0;34m'tensorflow'\u001b[0m\u001b[0;34m:\u001b[0m\u001b[0;34m\u001b[0m\u001b[0m\n\u001b[1;32m     82\u001b[0m     \u001b[0msys\u001b[0m\u001b[0;34m.\u001b[0m\u001b[0mstderr\u001b[0m\u001b[0;34m.\u001b[0m\u001b[0mwrite\u001b[0m\u001b[0;34m(\u001b[0m\u001b[0;34m'Using TensorFlow backend.\\n'\u001b[0m\u001b[0;34m)\u001b[0m\u001b[0;34m\u001b[0m\u001b[0m\n\u001b[0;32m---> 83\u001b[0;31m     \u001b[0;32mfrom\u001b[0m \u001b[0;34m.\u001b[0m\u001b[0mtensorflow_backend\u001b[0m \u001b[0;32mimport\u001b[0m \u001b[0;34m*\u001b[0m\u001b[0;34m\u001b[0m\u001b[0m\n\u001b[0m\u001b[1;32m     84\u001b[0m \u001b[0;32melse\u001b[0m\u001b[0;34m:\u001b[0m\u001b[0;34m\u001b[0m\u001b[0m\n\u001b[1;32m     85\u001b[0m     \u001b[0;32mraise\u001b[0m \u001b[0mValueError\u001b[0m\u001b[0;34m(\u001b[0m\u001b[0;34m'Unknown backend: '\u001b[0m \u001b[0;34m+\u001b[0m \u001b[0mstr\u001b[0m\u001b[0;34m(\u001b[0m\u001b[0m_BACKEND\u001b[0m\u001b[0;34m)\u001b[0m\u001b[0;34m)\u001b[0m\u001b[0;34m\u001b[0m\u001b[0m\n",
      "\u001b[0;32m/usr/local/lib/python2.7/dist-packages/keras/backend/tensorflow_backend.py\u001b[0m in \u001b[0;36m<module>\u001b[0;34m()\u001b[0m\n\u001b[0;32m----> 1\u001b[0;31m \u001b[0;32mimport\u001b[0m \u001b[0mtensorflow\u001b[0m \u001b[0;32mas\u001b[0m \u001b[0mtf\u001b[0m\u001b[0;34m\u001b[0m\u001b[0m\n\u001b[0m\u001b[1;32m      2\u001b[0m \u001b[0;32mfrom\u001b[0m \u001b[0mtensorflow\u001b[0m\u001b[0;34m.\u001b[0m\u001b[0mpython\u001b[0m\u001b[0;34m.\u001b[0m\u001b[0mtraining\u001b[0m \u001b[0;32mimport\u001b[0m \u001b[0mmoving_averages\u001b[0m\u001b[0;34m\u001b[0m\u001b[0m\n\u001b[1;32m      3\u001b[0m \u001b[0;32mfrom\u001b[0m \u001b[0mtensorflow\u001b[0m\u001b[0;34m.\u001b[0m\u001b[0mpython\u001b[0m\u001b[0;34m.\u001b[0m\u001b[0mops\u001b[0m \u001b[0;32mimport\u001b[0m \u001b[0mtensor_array_ops\u001b[0m\u001b[0;34m\u001b[0m\u001b[0m\n\u001b[1;32m      4\u001b[0m \u001b[0;32mfrom\u001b[0m \u001b[0mtensorflow\u001b[0m\u001b[0;34m.\u001b[0m\u001b[0mpython\u001b[0m\u001b[0;34m.\u001b[0m\u001b[0mops\u001b[0m \u001b[0;32mimport\u001b[0m \u001b[0mcontrol_flow_ops\u001b[0m\u001b[0;34m\u001b[0m\u001b[0m\n\u001b[1;32m      5\u001b[0m \u001b[0;32mfrom\u001b[0m \u001b[0mtensorflow\u001b[0m\u001b[0;34m.\u001b[0m\u001b[0mpython\u001b[0m\u001b[0;34m.\u001b[0m\u001b[0mops\u001b[0m \u001b[0;32mimport\u001b[0m \u001b[0mfunctional_ops\u001b[0m\u001b[0;34m\u001b[0m\u001b[0m\n",
      "\u001b[0;31mImportError\u001b[0m: No module named tensorflow"
     ]
    }
   ],
   "source": [
    "from keras.models import Sequential\n",
    "from keras.layers.core import Dense, Activation\n",
    "from keras.utils import np_utils"
   ]
  },
  {
   "cell_type": "code",
   "execution_count": 12,
   "metadata": {},
   "outputs": [
    {
     "ename": "ImportError",
     "evalue": "No module named tensorflow",
     "output_type": "error",
     "traceback": [
      "\u001b[0;31m---------------------------------------------------------------------------\u001b[0m",
      "\u001b[0;31mImportError\u001b[0m                               Traceback (most recent call last)",
      "\u001b[0;32m<ipython-input-12-41389fad42b5>\u001b[0m in \u001b[0;36m<module>\u001b[0;34m()\u001b[0m\n\u001b[0;32m----> 1\u001b[0;31m \u001b[0;32mimport\u001b[0m \u001b[0mtensorflow\u001b[0m \u001b[0;32mas\u001b[0m \u001b[0mtf\u001b[0m\u001b[0;34m\u001b[0m\u001b[0m\n\u001b[0m",
      "\u001b[0;31mImportError\u001b[0m: No module named tensorflow"
     ]
    }
   ],
   "source": [
    "import tensorflow as tf"
   ]
  },
  {
   "cell_type": "markdown",
   "metadata": {},
   "source": [
    "### Use DNN - Tflow"
   ]
  },
  {
   "cell_type": "code",
   "execution_count": 6,
   "metadata": {
    "collapsed": true
   },
   "outputs": [],
   "source": [
    "#Vector Assembler\n",
    "#feature_cols  = [\"home_score\", \"away_score\", \"score_diff_amh\", \"home_team_spread\",\"pct_complete\", \"cf1\", \"cf2\"]\n",
    "feature_cols = [\"home_score\", \"away_score\", \"score_diff_amh\", \"home_team_spread\",\"pct_complete\"]\n",
    "\n"
   ]
  },
  {
   "cell_type": "code",
   "execution_count": null,
   "metadata": {
    "collapsed": true
   },
   "outputs": [],
   "source": [
    "## import tensorflow as tf\n",
    "import numpy as np\n",
    "import pandas as pd\n",
    "import math\n",
    "\n",
    "from sklearn.tree import DecisionTreeClassifier \n",
    "from sklearn.model_selection import cross_val_score\n",
    "from sklearn.metrics import accuracy_score\n",
    "import tensorflow as tf\n",
    "import numpy as np\n",
    "\n",
    "def load_csv(filename):\n",
    "    file = pd.read_csv(filename, header=0)\n",
    "\n",
    "    # get sample's metadata\n",
    "    n_samples = int(file.columns[0])\n",
    "    n_features = int(file.columns[1])\n",
    "\n",
    "    # divide samples into explanation variables and target variable\n",
    "    data = np.empty((n_samples, n_features))\n",
    "    target = np.empty((n_samples,), dtype=np.int)\n",
    "    for i, row in enumerate(file.itertuples()):\n",
    "        target[i] = np.asarray(row[-1], dtype=np.int)\n",
    "        data[i] = np.asarray(row[1:n_features+1], dtype=np.float64)\n",
    "    return (data, target)\n",
    "\n",
    "# output train data \n",
    "def get_batch_data(x_train, y_train, size=None):\n",
    "    if size is None:\n",
    "        size = len(x_train)\n",
    "    batch_xs = x_train\n",
    "    batch_ys = []\n",
    "\n",
    "    # convert to 1-of-N vector\n",
    "    for i in range(len(y_train)):\n",
    "        val = np.zeros((CLASS_SIZE), dtype=np.float64)\n",
    "        val[y_train[i]] = 1.0\n",
    "        batch_ys.append(val)\n",
    "    batch_ys = np.asarray(batch_ys)\n",
    "    return batch_xs[:size], batch_ys[:size]\n",
    "\n",
    "# output test data\n",
    "def get_test_data(x_test, y_test):\n",
    "    batch_ys = []\n",
    "\n",
    "    # convert to 1-of-N vector\n",
    "    for i in range(len(y_test)):\n",
    "        val = np.zeros((CLASS_SIZE), dtype=np.float64)\n",
    "        val[y_test[i]] = 1.0\n",
    "        batch_ys.append(val)\n",
    "    return x_test, np.asarray(batch_ys)\n",
    "\n",
    "# for parameter initialize\n",
    "def get_stddev(in_dim, out_dim):\n",
    "    return 1.3 / math.sqrt(float(in_dim) + float(out_dim))\n",
    "\n",
    "# DNN Model Class\n",
    "class Classifier:\n",
    "    def __init__(self, hidden_units=[10], n_classes=0, data_size = 0):\n",
    "        self._hidden_units = hidden_units\n",
    "        self._n_classes = n_classes\n",
    "        self._data_size = data_size\n",
    "        self._sess = tf.Session()\n",
    "\n",
    "    # build model\n",
    "    def inference(self, x):\n",
    "        hidden = []\n",
    "\n",
    "        # Input Layer\n",
    "        with tf.name_scope(\"input\"):\n",
    "            weights = tf.Variable(tf.truncated_normal([DATA_SIZE, self._hidden_units[0]], stddev=get_stddev(DATA_SIZE, self._hidden_units[0]), seed=42), name='weights')\n",
    "            biases = tf.Variable(tf.zeros([self._hidden_units[0]]), name='biases')\n",
    "            input = tf.matmul(x, weights) + biases\n",
    "\n",
    "        # Hidden Layers\n",
    "        for index, num_hidden in enumerate(self._hidden_units):\n",
    "            if index == len(self._hidden_units) - 1: break\n",
    "            with tf.name_scope(\"hidden{}\".format(index+1)):\n",
    "                weights = tf.Variable(tf.truncated_normal([num_hidden, self._hidden_units[index+1]], seed=42, stddev=get_stddev(num_hidden, self._hidden_units[index+1])), name='weights')\n",
    "                biases = tf.Variable(tf.zeros([self._hidden_units[index+1]]), name='biases')\n",
    "                inputs = input if index == 0 else hidden[index-1]\n",
    "                hidden.append(tf.nn.relu(tf.matmul(inputs, weights) + biases, name=\"hidden{}\".format(index+1)))\n",
    "        \n",
    "        # Output Layer\n",
    "        with tf.name_scope('output'):\n",
    "            weights = tf.Variable(tf.truncated_normal([self._hidden_units[-1], self._n_classes], seed=42, stddev=get_stddev(self._hidden_units[-1], self._n_classes)), name='weights')\n",
    "            biases = tf.Variable(tf.zeros([self._n_classes]), name='biases')\n",
    "            logits = tf.nn.softmax(tf.matmul(hidden[-1], weights) + biases)\n",
    "\n",
    "        return logits\n",
    "\n",
    "    # loss function\n",
    "    def loss(self, logits, y):        \n",
    "        #return -tf.reduce_mean(y * tf.log(logits))\n",
    "        return tf.reduce_mean(tf.nn.softmax_cross_entropy_with_logits(logits=logits, labels=y))\n",
    "\n",
    "    # fitting function for train data\n",
    "    def fit(self, x_train=None, y_train=None, steps=200):\n",
    "        # build model\n",
    "        x = tf.placeholder(tf.float32, [None, DATA_SIZE])\n",
    "        y = tf.placeholder(tf.float32, [None, CLASS_SIZE])\n",
    "        logits = self.inference(x)\n",
    "        loss = self.loss(logits, y)\n",
    "        train_op = tf.train.AdamOptimizer(0.003).minimize(loss)\n",
    "\n",
    "        # save variables\n",
    "        self._x = x\n",
    "        self._y = y\n",
    "        self._logits = logits\n",
    " \n",
    "        # init parameters\n",
    "        #init = tf.initialize_all_variables() \n",
    "        init = tf.global_variables_initializer()\n",
    "        self._sess.run(init)\n",
    "\n",
    "        # train\n",
    "        for i in range(steps):\n",
    "            batch_xs, batch_ys = get_batch_data(x_train, y_train)\n",
    "            self._sess.run(train_op, feed_dict={x: batch_xs, y: batch_ys})\n",
    "\n",
    "    # evaluation function for test data\n",
    "    def evaluate(self, x_test=None, y_test=None):\n",
    "        x_test, y_test = get_test_data(x_test, y_test)\n",
    "        \n",
    "        # build accuracy calculate step\n",
    "        correct_prediction = tf.equal(tf.argmax(self._logits, 1), tf.argmax(self._y, 1))\n",
    "        accuracy = tf.reduce_mean(tf.cast(correct_prediction, tf.float32))\n",
    "\n",
    "        # evaluate\n",
    "        return self._sess.run([accuracy], feed_dict={self._x: x_test, self._y: y_test})\n",
    "\n",
    "    # label pridiction\n",
    "    def predict(self, samples):\n",
    "        predictions = tf.argmax(self._logits, 1)\n",
    "        return self._sess.run(predictions, {self._x: samples})"
   ]
  }
 ],
 "metadata": {
  "kernelspec": {
   "display_name": "Python 2",
   "language": "python",
   "name": "python2"
  },
  "language_info": {
   "codemirror_mode": {
    "name": "ipython",
    "version": 2
   },
   "file_extension": ".py",
   "mimetype": "text/x-python",
   "name": "python",
   "nbconvert_exporter": "python",
   "pygments_lexer": "ipython2",
   "version": "2.7.12"
  }
 },
 "nbformat": 4,
 "nbformat_minor": 1
}
