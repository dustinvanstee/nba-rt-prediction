{
 "cells": [
  {
   "cell_type": "markdown",
   "metadata": {},
   "source": [
    "### Imports"
   ]
  },
  {
   "cell_type": "code",
   "execution_count": 27,
   "metadata": {},
   "outputs": [
    {
     "data": {
      "text/plain": [
       "u'2.2.0'"
      ]
     },
     "execution_count": 27,
     "metadata": {},
     "output_type": "execute_result"
    }
   ],
   "source": [
    "spark.version"
   ]
  },
  {
   "cell_type": "code",
   "execution_count": 2,
   "metadata": {
    "collapsed": true
   },
   "outputs": [],
   "source": [
    "import re\n",
    "import datetime\n",
    "from pyspark.sql.functions import *\n",
    "import pandas as pd\n",
    "pd.set_option('display.max_colwidth', 80)"
   ]
  },
  {
   "cell_type": "markdown",
   "metadata": {},
   "source": [
    "### Add Lookup Tables"
   ]
  },
  {
   "cell_type": "code",
   "execution_count": 3,
   "metadata": {
    "collapsed": true
   },
   "outputs": [],
   "source": [
    "monthMap = {\n",
    "    \"Jan\": \"01\",\n",
    "    \"Feb\": \"02\",\n",
    "    \"Mar\": \"03\",\n",
    "    \"Apr\": \"04\",\n",
    "    \"May\": \"05\",\n",
    "    \"Jun\": \"06\",\n",
    "    \"Jul\": \"07\",\n",
    "    \"Aug\": \"08\",\n",
    "    \"Sep\": \"09\",\n",
    "    \"Oct\": \"10\",\n",
    "    \"Nov\": \"11\",\n",
    "    \"Dec\": \"12\"\n",
    "}\n",
    "\n",
    "teamMap = {\n",
    "  \"Atlanta\" : \"atl\",\n",
    "  \"Boston\"  : \"bos\",\n",
    "  \"Brooklyn\"  : \"bkn\",\n",
    "  \"Charlotte\"  : \"cha\",\n",
    "  \"Chicago\"  : \"chi\",\n",
    "  \"Cleveland\"  : \"cle\",\n",
    "  \"Dallas\"  : \"dal\",\n",
    "  \"Denver\"  : \"den\",\n",
    "  \"Detroit\"  : \"det\",\n",
    "  \"Golden State\"  : \"gst\",\n",
    "  \"Houston\"  : \"hou\",\n",
    "  \"Indiana\"  : \"ind\",\n",
    "  \"LA Clippers\"  : \"lac\",\n",
    "  \"LA Lakers\"  : \"lal\",\n",
    "  \"Memphis\"  : \"mem\",\n",
    "  \"Miami\"  : \"mia\",\n",
    "  \"Milwaukee\"  : \"mil\",\n",
    "  \"Minnesota\"  : \"min\",\n",
    "  \"New Orleans\"  : \"nor\",\n",
    "  \"New York\"  : \"nyk\",\n",
    "  \"Oklahoma City\"  : \"okc\",\n",
    "  \"Orlando\"  : \"orl\",\n",
    "  \"Philadelphia\"  : \"phi\",\n",
    "  \"Phila.\"  : \"phi\",\n",
    "  \"Phoenix\"  : \"pho\",\n",
    "  \"Portland\"  : \"por\",\n",
    "  \"Sacramento\" : \"sac\",\n",
    "  \"San Antonio\"  : \"san\",\n",
    "  \"Toronto\"  : \"tor\",\n",
    "  \"Utah\"  : \"uta\",\n",
    "  \"Washington\"  : \"wsh\",\n",
    "   None : \"none\"}"
   ]
  },
  {
   "cell_type": "markdown",
   "metadata": {},
   "source": [
    "### Load In NBA Score Data Set"
   ]
  },
  {
   "cell_type": "code",
   "execution_count": 4,
   "metadata": {},
   "outputs": [
    {
     "name": "stdout",
     "output_type": "stream",
     "text": [
      "+----------+--------+-------------+------+------------+------+------------+--------+---------+\n",
      "|  dateOrig|      ts|    teamlonga|scorea|   teamlongb|scoreb|  timestring|timeleft|   gameid|\n",
      "+----------+--------+-------------+------+------------+------+------------+--------+---------+\n",
      "|2016-04-05|15:06:16|      Phoenix|     0|     Atlanta|     0|(8:00 PM ET)|    48.0|400829044|\n",
      "|2016-04-05|15:06:16|      Chicago|     0|     Memphis|     0|(8:00 PM ET)|    48.0|400829045|\n",
      "|2016-04-05|15:06:16|    Cleveland|     0|   Milwaukee|     0|(8:00 PM ET)|    48.0|400829046|\n",
      "|2016-04-05|15:06:16|Oklahoma City|     0|      Denver|     0|(9:00 PM ET)|    48.0|400829047|\n",
      "|2016-04-05|15:06:16|  New Orleans|     0|Philadelphia|     0|(7:00 PM ET)|    48.0|400829041|\n",
      "+----------+--------+-------------+------+------------+------+------------+--------+---------+\n",
      "only showing top 5 rows\n",
      "\n"
     ]
    }
   ],
   "source": [
    "from pyspark.sql.types import StructType, StructField\n",
    "from pyspark.sql.types import DoubleType, IntegerType, StringType,DateType\n",
    "\n",
    "customSchema = StructType([\n",
    "    StructField(\"dateOrig\", DateType()),\n",
    "    StructField(\"ts\", StringType()),\n",
    "    StructField(\"teamlonga\", StringType()),\n",
    "    StructField(\"scorea\", IntegerType()),\n",
    "    StructField(\"teamlongb\", StringType()),\n",
    "    StructField(\"scoreb\", IntegerType()),\n",
    "    StructField(\"timestring\", StringType()),\n",
    "    StructField(\"timeleft\", DoubleType()),\n",
    "    StructField(\"gameid\", IntegerType())\n",
    "])\n",
    "\n",
    "nbafile = '/data2/nba-rt-prediction/scoredata/scores_nba.2015.test.dat'\n",
    "rtscoresAndFinalDF = spark.read.format('csv')\\\n",
    "                    .option(\"header\", \"false\")\\\n",
    "                    .option(\"inferSchema\", \"false\")\\\n",
    "                    .option(\"nullValue\", \"empty\")\\\n",
    "                    .option(\"dateFormat\", \"yyyy-MM-dd\")\\\n",
    "                    .option(\"mode\",\"DROPMALFORMED\")\\\n",
    "                    .schema(customSchema)\\\n",
    "                    .load(nbafile).coalesce(2)\n",
    "    \n",
    "rtscoresAndFinalDF.show(5)\n"
   ]
  },
  {
   "cell_type": "markdown",
   "metadata": {},
   "source": [
    "### UDFs For Creating Extra Columns In Real Time Data Frame"
   ]
  },
  {
   "cell_type": "code",
   "execution_count": 5,
   "metadata": {
    "collapsed": true
   },
   "outputs": [],
   "source": [
    "# Create new team name column.. do simple lookup conversion with a UDF\n",
    "def mapper(teamin) :\n",
    "    return teamMap[teamin]\n",
    "\n",
    "mapperudf = udf(mapper)\n"
   ]
  },
  {
   "cell_type": "code",
   "execution_count": 6,
   "metadata": {
    "collapsed": true
   },
   "outputs": [],
   "source": [
    "# Date Logic to adjust for games that finish on the day after .... \n",
    "# This is so that I can join them against the spread which was dated the day prior...\n",
    "# This is due to not having a great key to join my tables ...\n",
    "\n",
    "datecrossregex = re.compile(\"^0[0-3]\") # midnight to 3am\n",
    "def dateadjust(datein, tsin ) : \n",
    "    #dateary = datein.split(\"-\")\n",
    "    tsary   = tsin.split(\":\")\n",
    "    sub_one_day = datetime.timedelta(days=1)\n",
    "    newdate = datein\n",
    "    if datecrossregex.match(tsary[0]) :\n",
    "        #day = \"%02d\".format(int(dateary[2]) -1)\n",
    "        #newdate = dateary(0) + \"-\" + dateary(1) + \"-\" + day   \n",
    "        newdate = datein - sub_one_day\n",
    "    return str(newdate)\n",
    "\n",
    "dateadjustudf = udf(dateadjust)\n",
    "\n",
    "\n",
    "# UDFs to create some extra features ... this one is for an experiemental combination of Time left and Score difference.  \n",
    "# Made this via intuition.  This can be extended to add other custom features\n",
    "import math\n",
    "def scoredivtimeXform(numerator, denominator):\n",
    "    rv = numerator/(math.pow(denominator+1,0.5))\n",
    "    return rv\n",
    "scoredivtimeUdf = udf(scoredivtimeXform)\n"
   ]
  },
  {
   "cell_type": "markdown",
   "metadata": {},
   "source": [
    "### Wrangle The Real Time And Final Score Data.  Add Columns To The Data Set"
   ]
  },
  {
   "cell_type": "code",
   "execution_count": 7,
   "metadata": {
    "collapsed": true
   },
   "outputs": [],
   "source": [
    "# Remove Overtime games from this analysis\n",
    "rtscoresAndFinalDF = rtscoresAndFinalDF.filter(~col(\"timestring\").like(\"%OT%\"))\n",
    "\n",
    "# Create short 3 character team names \n",
    "rtscoresAndFinalDF = rtscoresAndFinalDF.withColumn(\"teama\", mapperudf(col(\"teamlonga\")))\n",
    "rtscoresAndFinalDF = rtscoresAndFinalDF.withColumn(\"teamb\", mapperudf(col(\"teamlongb\")))\n",
    "\n",
    "# Add a score differential Column \n",
    "rtscoresAndFinalDF = rtscoresAndFinalDF.withColumn(\"scorea-scoreb\", col(\"scorea\") - col(\"scoreb\"))\n",
    "\n",
    "# Transform the Date.  This is for games that spanned multiple days and gave me a headache.  \n",
    "# Games adjusted to the day they started on.\n",
    "rtscoresAndFinalDF = rtscoresAndFinalDF.withColumn(\"date\",  dateadjustudf(col(\"dateOrig\"),col(\"ts\")))\n",
    "\n",
    "# Create a Key for me to use to join with my odds data later.  Key = date.teama.teamb\n",
    "rtscoresAndFinalDF = rtscoresAndFinalDF.withColumn(\"key\", concat(col(\"date\"),lit(\".\"),col(\"teama\"),lit(\".\"),col(\"teamb\")))\n",
    "\n"
   ]
  },
  {
   "cell_type": "code",
   "execution_count": 9,
   "metadata": {},
   "outputs": [
    {
     "name": "stdout",
     "output_type": "stream",
     "text": [
      "+----------+--------+-------------+------+------------+------+-------------+--------+---------+-----+-----+-------------+----------+------------------+\n",
      "|  dateOrig|      ts|    teamlonga|scorea|   teamlongb|scoreb|   timestring|timeleft|   gameid|teama|teamb|scorea-scoreb|      date|               key|\n",
      "+----------+--------+-------------+------+------------+------+-------------+--------+---------+-----+-----+-------------+----------+------------------+\n",
      "|2016-04-05|15:06:16|      Phoenix|     0|     Atlanta|     0| (8:00 PM ET)|    48.0|400829044|  pho|  atl|            0|2016-04-05|2016-04-05.pho.atl|\n",
      "|2016-04-05|15:06:16|      Chicago|     0|     Memphis|     0| (8:00 PM ET)|    48.0|400829045|  chi|  mem|            0|2016-04-05|2016-04-05.chi.mem|\n",
      "|2016-04-05|15:06:16|    Cleveland|     0|   Milwaukee|     0| (8:00 PM ET)|    48.0|400829046|  cle|  mil|            0|2016-04-05|2016-04-05.cle.mil|\n",
      "|2016-04-05|15:06:16|Oklahoma City|     0|      Denver|     0| (9:00 PM ET)|    48.0|400829047|  okc|  den|            0|2016-04-05|2016-04-05.okc.den|\n",
      "|2016-04-05|15:06:16|  New Orleans|     0|Philadelphia|     0| (7:00 PM ET)|    48.0|400829041|  nor|  phi|            0|2016-04-05|2016-04-05.nor.phi|\n",
      "|2016-04-05|15:06:16|      Detroit|     0|       Miami|     0| (8:00 PM ET)|    48.0|400829042|  det|  mia|            0|2016-04-05|2016-04-05.det.mia|\n",
      "|2016-04-05|15:06:16|    Charlotte|     0|     Toronto|     0| (7:30 PM ET)|    48.0|400829043|  cha|  tor|            0|2016-04-05|2016-04-05.cha.tor|\n",
      "|2016-04-05|15:06:16|  San Antonio|     0|        Utah|     0| (9:00 PM ET)|    48.0|400829048|  san|  uta|            0|2016-04-05|2016-04-05.san.uta|\n",
      "|2016-04-05|15:06:16|     Portland|     0|  Sacramento|     0|(10:00 PM ET)|    48.0|400829049|  por|  sac|            0|2016-04-05|2016-04-05.por.sac|\n",
      "|2016-04-05|15:06:16|    LA Lakers|     0| LA Clippers|     0|(10:30 PM ET)|    48.0|400829051|  lal|  lac|            0|2016-04-05|2016-04-05.lal.lac|\n",
      "|2016-04-05|15:06:16|    Minnesota|     0|Golden State|     0|(10:30 PM ET)|    48.0|400829050|  min|  gst|            0|2016-04-05|2016-04-05.min.gst|\n",
      "|2016-04-05|15:07:51|      Phoenix|     0|     Atlanta|     0| (8:00 PM ET)|    48.0|400829044|  pho|  atl|            0|2016-04-05|2016-04-05.pho.atl|\n",
      "|2016-04-05|15:07:51|      Chicago|     0|     Memphis|     0| (8:00 PM ET)|    48.0|400829045|  chi|  mem|            0|2016-04-05|2016-04-05.chi.mem|\n",
      "|2016-04-05|15:07:51|    Cleveland|     0|   Milwaukee|     0| (8:00 PM ET)|    48.0|400829046|  cle|  mil|            0|2016-04-05|2016-04-05.cle.mil|\n",
      "|2016-04-05|15:07:51|Oklahoma City|     0|      Denver|     0| (9:00 PM ET)|    48.0|400829047|  okc|  den|            0|2016-04-05|2016-04-05.okc.den|\n",
      "|2016-04-05|15:07:51|  New Orleans|     0|Philadelphia|     0| (7:00 PM ET)|    48.0|400829041|  nor|  phi|            0|2016-04-05|2016-04-05.nor.phi|\n",
      "|2016-04-05|15:07:51|      Detroit|     0|       Miami|     0| (8:00 PM ET)|    48.0|400829042|  det|  mia|            0|2016-04-05|2016-04-05.det.mia|\n",
      "|2016-04-05|15:07:51|    Charlotte|     0|     Toronto|     0| (7:30 PM ET)|    48.0|400829043|  cha|  tor|            0|2016-04-05|2016-04-05.cha.tor|\n",
      "|2016-04-05|15:07:51|  San Antonio|     0|        Utah|     0| (9:00 PM ET)|    48.0|400829048|  san|  uta|            0|2016-04-05|2016-04-05.san.uta|\n",
      "|2016-04-05|15:07:51|     Portland|     0|  Sacramento|     0|(10:00 PM ET)|    48.0|400829049|  por|  sac|            0|2016-04-05|2016-04-05.por.sac|\n",
      "+----------+--------+-------------+------+------------+------+-------------+--------+---------+-----+-----+-------------+----------+------------------+\n",
      "only showing top 20 rows\n",
      "\n"
     ]
    }
   ],
   "source": [
    "rtscoresAndFinalDF.show(5)\n"
   ]
  },
  {
   "cell_type": "markdown",
   "metadata": {},
   "source": [
    "### Separate The Real Time And Final Data From One Common Dataframe To Two Dataframes"
   ]
  },
  {
   "cell_type": "code",
   "execution_count": 10,
   "metadata": {
    "collapsed": true
   },
   "outputs": [],
   "source": [
    "# Currently based on the way the data was sampled, both real time scores and final scores are written as seperate records to the same file.  I need to pull these apart, and then join the dataframes so that I have a real time score and features, and know if the game was won or lost ....\n",
    "\n",
    "# Create Final Score DF\n",
    "# Note a shortcut for repeating the dataframe within the filter is to use a $   df.filter(df(\"foo\").contains ... is equiv to df.filter($\"foo\".contains)\n",
    "\n",
    "finalscoresDF = rtscoresAndFinalDF.filter(col(\"timestring\").like(\"%FINAL%\"))\n",
    "\n",
    "# Rename some columns so that join later doesnt have name overlaps\n",
    "finalscoresDF = finalscoresDF.withColumnRenamed(\"scorea\", \"fscorea\")\n",
    "finalscoresDF = finalscoresDF.withColumnRenamed(\"scoreb\", \"fscoreb\")\n",
    "\n",
    "# Create final score difference\n",
    "finalscoresDF = finalscoresDF.withColumn(\"fscorea-fscoreb\", col(\"fscorea\") - col(\"fscoreb\"))\n",
    "\n",
    "# Add a Win/loss column Win = 1, Loss = 0\n",
    "finalscoresDF = finalscoresDF.withColumn(\"win-loss-enc\", (when(col(\"fscorea-fscoreb\") > 0.0, 1.0).otherwise(0)))\n",
    "\n",
    "#(when(df['age'] == 2, 3).otherwise(4)\n",
    "\n",
    "# Remove Halftime records as this particular case isn't handled well... (for now)\n",
    "rtscoresDF = rtscoresAndFinalDF.filter(~col(\"timestring\").like(\"%FINAL%\")).filter(~col(\"timestring\").like(\"HALFTIME\"))\n",
    "\n",
    "# Create final score difference\n",
    "rtscoresDF = rtscoresDF.withColumn(\"scorea-scoreb\", col(\"scorea\") - col(\"scoreb\"))\n",
    "\n",
    "# Create a unique feature based on my custom UDF.  Idea here is that I have intuition that timeleft and score difference are a strong predictor when combined\n",
    "rtscoresDF = rtscoresDF.withColumn(\"score-div-time\", scoredivtimeUdf(col(\"scorea\") - col(\"scoreb\"), col(\"timeleft\")*2))\n"
   ]
  },
  {
   "cell_type": "markdown",
   "metadata": {},
   "source": [
    "### Lets Take A Look Of What We Have For The Two Dataframes We Just Wrangled"
   ]
  },
  {
   "cell_type": "code",
   "execution_count": 11,
   "metadata": {},
   "outputs": [
    {
     "name": "stdout",
     "output_type": "stream",
     "text": [
      "final scores data frame\n",
      "+----------+--------+-----------+-------+------------+-------+----------+--------+---------+-----+-----+-------------+----------+------------------+---------------+------------+\n",
      "|  dateOrig|      ts|  teamlonga|fscorea|   teamlongb|fscoreb|timestring|timeleft|   gameid|teama|teamb|scorea-scoreb|      date|               key|fscorea-fscoreb|win-loss-enc|\n",
      "+----------+--------+-----------+-------+------------+-------+----------+--------+---------+-----+-----+-------------+----------+------------------+---------------+------------+\n",
      "|2016-04-05|21:22:09|New Orleans|     93|Philadelphia|    107|   (FINAL)|     0.0|400829041|  nor|  phi|          -14|2016-04-05|2016-04-05.nor.phi|            -14|         0.0|\n",
      "|2016-04-05|22:08:42|  Charlotte|     90|     Toronto|     96|   (FINAL)|     0.0|400829043|  cha|  tor|           -6|2016-04-05|2016-04-05.cha.tor|             -6|         0.0|\n",
      "|2016-04-05|22:25:25|    Chicago|     92|     Memphis|    108|   (FINAL)|     0.0|400829045|  chi|  mem|          -16|2016-04-05|2016-04-05.chi.mem|            -16|         0.0|\n",
      "|2016-04-05|22:28:58|    Phoenix|     90|     Atlanta|    103|   (FINAL)|     0.0|400829044|  pho|  atl|          -13|2016-04-05|2016-04-05.pho.atl|            -13|         0.0|\n",
      "|2016-04-05|22:30:29|  Cleveland|    109|   Milwaukee|     80|   (FINAL)|     0.0|400829046|  cle|  mil|           29|2016-04-05|2016-04-05.cle.mil|             29|         1.0|\n",
      "+----------+--------+-----------+-------+------------+-------+----------+--------+---------+-----+-----+-------------+----------+------------------+---------------+------------+\n",
      "only showing top 5 rows\n",
      "\n",
      "real time scores data frame\n",
      "+----------+--------+-------------+------+------------+------+------------+--------+---------+-----+-----+-------------+----------+------------------+--------------+\n",
      "|  dateOrig|      ts|    teamlonga|scorea|   teamlongb|scoreb|  timestring|timeleft|   gameid|teama|teamb|scorea-scoreb|      date|               key|score-div-time|\n",
      "+----------+--------+-------------+------+------------+------+------------+--------+---------+-----+-----+-------------+----------+------------------+--------------+\n",
      "|2016-04-05|15:06:16|      Phoenix|     0|     Atlanta|     0|(8:00 PM ET)|    48.0|400829044|  pho|  atl|            0|2016-04-05|2016-04-05.pho.atl|           0.0|\n",
      "|2016-04-05|15:06:16|      Chicago|     0|     Memphis|     0|(8:00 PM ET)|    48.0|400829045|  chi|  mem|            0|2016-04-05|2016-04-05.chi.mem|           0.0|\n",
      "|2016-04-05|15:06:16|    Cleveland|     0|   Milwaukee|     0|(8:00 PM ET)|    48.0|400829046|  cle|  mil|            0|2016-04-05|2016-04-05.cle.mil|           0.0|\n",
      "|2016-04-05|15:06:16|Oklahoma City|     0|      Denver|     0|(9:00 PM ET)|    48.0|400829047|  okc|  den|            0|2016-04-05|2016-04-05.okc.den|           0.0|\n",
      "|2016-04-05|15:06:16|  New Orleans|     0|Philadelphia|     0|(7:00 PM ET)|    48.0|400829041|  nor|  phi|            0|2016-04-05|2016-04-05.nor.phi|           0.0|\n",
      "+----------+--------+-------------+------+------------+------+------------+--------+---------+-----+-----+-------------+----------+------------------+--------------+\n",
      "only showing top 5 rows\n",
      "\n",
      "##########################################\n",
      "Total Data Points in rtscoresDF = 14405\n",
      "Total Data Points in rtscoresDF uniq = 14405\n",
      "Total Data Points in finalscoresDF = 116\n",
      "##########################################\n"
     ]
    }
   ],
   "source": [
    "# Some Printouts .....\n",
    "print(\"final scores data frame\")\n",
    "finalscoresDF.show(5)\n",
    "print(\"real time scores data frame\")\n",
    "rtscoresDF.show(5)\n",
    "finalscoresDF.printSchema\n",
    "\n",
    "\n",
    "print \"##########################################\"\n",
    "print \"Total Data Points in rtscoresDF = {0}\".format(rtscoresDF.count())\n",
    "print \"Total Data Points in rtscoresDF uniq = {0}\".format(rtscoresDF.sort(\"key\").distinct().count())\n",
    "print \"Total Data Points in finalscoresDF = {0}\".format(finalscoresDF.count())\n",
    "print \"##########################################\"\n",
    "\n",
    "\n"
   ]
  },
  {
   "cell_type": "markdown",
   "metadata": {
    "collapsed": true
   },
   "source": [
    "### Interpret the Odds data\n",
    "````How to interpret the odds data ...\n",
    "Example Golden State -12.5 O (207.0) -125.0 | Detroit 12.5 U (207.0) 145.0\n",
    "Here Golden State the away team is a 12.5 pt favorite to win.  The over under is in parentheses (207) and is the 50/50 line between teams sum of scores\n",
    "being above/below that line.  \n",
    "Finally the -125 / +145 numbers are whats known at the moneyline odds. \n",
    "    A negative number means you need to bet 125$ to get a 100$ payout\n",
    "    A positive number means you need to bet 100$ to get a 145$ payout\n",
    "```"
   ]
  },
  {
   "cell_type": "markdown",
   "metadata": {},
   "source": [
    "### Load In Odds Data"
   ]
  },
  {
   "cell_type": "code",
   "execution_count": 12,
   "metadata": {
    "collapsed": true
   },
   "outputs": [],
   "source": [
    "# Here, the data is very raw, and needs to be pre-processed .  I will start by loading it as an RDD and perform a lot of transformations.  Once I have it properly parsed, I will convert to a dataframe.\n",
    "# This is not beautiful, but gets the job done\n",
    "# Data format .....\n",
    "#       <title>New Orleans 2.5 O (207.0) 125.0 | Phila. -2.5 U (207.0) -145.0 (Apr 05, 2016 07:10 PM)</title>\n",
    "#       <title>Detroit 4.0 O (202.0) 160.0 | Miami -4.0 U (202.0) -190.0 (Apr 05, 2016 08:05 PM)</title>\n",
    "oddsfile = \"/data2/nba-rt-prediction/nbaodds_042516.xml\"\n",
    "\n",
    "# Reading the data in as an RDD first.  There isn't a dataframe parser for this XML I have, so I will write a custom parser ....\n",
    "oddsrdd = spark.read.text(oddsfile).rdd\n",
    "# just grabbing the text within the < ... > tags.  I can do this, because the format is super simple and not nested\n",
    "# the subscript [0] is due to the fact that spark.read.text read in the oddsfile of Type Row.  Need to index\n",
    "# into it to get the string\n",
    "gameStringRdd = oddsrdd.map(lambda x : x[0][x[0].find('>')+1:x[0].rfind('<')])\n"
   ]
  },
  {
   "cell_type": "code",
   "execution_count": 14,
   "metadata": {},
   "outputs": [],
   "source": [
    "# This is where I do the heavy lifting of parsing my XML .. and then finally convert my RDD to a dataframe .....\n",
    "# just lots of string parsing and data type conversions\n",
    "def parseOdds(line_in) : \n",
    "    away_str = line_in[0:line_in.find('|')]  \n",
    "    home_and_date_str = line_in[line_in.find('|')+2:-1]\n",
    "    home_str = home_and_date_str[0:home_and_date_str.rfind('(')]\n",
    "    date_str = home_and_date_str[home_and_date_str.rfind('(')+1:len(home_and_date_str)]\n",
    "    date_str = date_str.replace(',', '')\n",
    "    \n",
    "    # parse away string\n",
    "    overunder = away_str[away_str.find('(')+1:away_str.find(')')]\n",
    "    teamaml = away_str[away_str.find(')')+2:len(away_str)-1]\n",
    "    away_str_2 = away_str[0:away_str.find('(')-3]\n",
    "    teamaspread = away_str_2[away_str_2.rfind(' ')+1:len(away_str_2)]\n",
    "    teamlonga = away_str_2[0:away_str_2.rfind(' ')]\n",
    "    teama = teamMap[teamlonga]\n",
    "    \n",
    "     # parse home string\n",
    "    overunder = home_str[home_str.find('(')+1:home_str.find(')')]\n",
    "    teamhml = home_str[home_str.find(')')+2:len(home_str)-1]\n",
    "    home_str_2 = home_str[0:home_str.find('(')-3]\n",
    "    teamhspread = home_str_2[home_str_2.rfind(' ')+1:len(home_str_2)]\n",
    "    teamlongh = home_str_2[0:home_str_2.rfind(' ')]\n",
    "    teamh = teamMap[teamlongh]\n",
    "   \n",
    "    # parse date string\n",
    "    dateInfo = date_str.split(' ')\n",
    "    dateStr = dateInfo[2] + \"-\" + monthMap[dateInfo[0]] + \"-\" + dateInfo[1]\n",
    "    # This will become my join key for the other data sets\n",
    "    key = dateStr +\".\" + teama + \".\" + teamh\n",
    "    return (key,teamlonga,teama,teamaspread,overunder,teamaml,teamlongh,teamh,teamhml,dateStr)\n",
    "\n",
    "#def parseOdds(line_in) : \n",
    "#    away_str = line_in[0:line_in.find('|')]  \n",
    "#    return (away_str,away_str)\n",
    "\n",
    "\n",
    "oddsDF = gameStringRdd.map(lambda x : parseOdds(x))\\\n",
    "        .toDF([\"key\",\"teamlonga\",\"teama\",\"teamaspread\",\"overunder\",\"teamaml\",\"teamlongh\",\"teamh\",\"teamhml\",\"dateStr\"]).distinct()\n",
    "\n",
    "# OddsDF has some dups due to the fact that I have multiple readings ...\n",
    "oddsDF.registerTempTable(\"odds_table\")\n",
    "\n",
    "oddsDF = spark.sql(\"SELECT key, FIRST(teamlonga) as teamlonga, FIRST(teama) as teama,\\\n",
    "  AVG(teamaspread) as teamaspread, AVG(overunder) as overunder, AVG(teamaml) as teamaml,\\\n",
    "  FIRST(teamlongh) as teamlongh,FIRST(teamh) as teamh,AVG(teamhml) as teamhml, FIRST(dateStr) as dateStr FROM odds_table GROUP BY key\")\n"
   ]
  },
  {
   "cell_type": "markdown",
   "metadata": {},
   "source": [
    "### Inspect Some Of The Odds Data"
   ]
  },
  {
   "cell_type": "code",
   "execution_count": 15,
   "metadata": {},
   "outputs": [
    {
     "name": "stdout",
     "output_type": "stream",
     "text": [
      "+------------------+----------+-----+-----------+---------+-------+-----------+-----+-------+----------+\n",
      "|               key| teamlonga|teama|teamaspread|overunder|teamaml|  teamlongh|teamh|teamhml|   dateStr|\n",
      "+------------------+----------+-----+-----------+---------+-------+-----------+-----+-------+----------+\n",
      "|2016-04-24.atl.bos|   Atlanta|  atl|        1.5|    203.5|    0.0|     Boston|  bos| -120.0|2016-04-24|\n",
      "|2016-04-19.mem.san|   Memphis|  mem|      18.25|    187.0| -110.0|San Antonio|  san| -110.0|2016-04-19|\n",
      "|2016-04-26.ind.tor|   Indiana|  ind|        7.0|    192.0|  260.0|    Toronto|  tor| -320.0|2016-04-26|\n",
      "|2016-04-13.mia.bos|     Miami|  mia|        5.0|    206.5|  170.0|     Boston|  bos| -200.0|2016-04-13|\n",
      "|2016-04-13.sac.hou|Sacramento|  sac|       15.0|    222.0| -110.0|    Houston|  hou| -110.0|2016-04-13|\n",
      "+------------------+----------+-----+-----------+---------+-------+-----------+-----+-------+----------+\n",
      "only showing top 5 rows\n",
      "\n",
      "Total Home Teams      = 30\n",
      "Total Away Teams      = 30\n",
      "Total Games Collected = 111 \n"
     ]
    }
   ],
   "source": [
    "oddsDF.show(5)\n",
    "print \"Total Home Teams      = {0}\".format(oddsDF.select(\"teamh\").distinct().count())\n",
    "print \"Total Away Teams      = {0}\".format(oddsDF.select(\"teama\").distinct().count())\n",
    "print \"Total Games Collected = {0} \".format(oddsDF.count())\n"
   ]
  },
  {
   "cell_type": "markdown",
   "metadata": {},
   "source": [
    "### Join The Odds And Final Score Data Sets"
   ]
  },
  {
   "cell_type": "code",
   "execution_count": 16,
   "metadata": {
    "collapsed": true
   },
   "outputs": [],
   "source": [
    "# Here is where we join the Odds/Realtime scores/ Final Scores into one wholistic data set as input for Logistic Machine Learning\n",
    "\n",
    "# Create a smaller Final Score Dataframe.  Just keep the key, final score a and b, the win/loss indicator\n",
    "finalslicedscoresDF1 = finalscoresDF.select([\"key\",\"fscorea\",\"fscoreb\",\"win-loss-enc\"]).distinct()\n",
    "# First Join the 2 smallest data frames ... odd and final.\n",
    "gameDF = oddsDF.join(finalslicedscoresDF1, oddsDF[\"key\"] == finalslicedscoresDF1[\"key\"], \"inner\").drop(oddsDF[\"key\"])\n",
    "# Drop these redundant columns prior to joining with Realtime score dataframe\n",
    "gameDF = gameDF.drop(\"teamlonga\")\n",
    "gameDF = gameDF.drop(\"teamlongb\")\n",
    "gameDF = gameDF.drop(\"teama\")\n",
    "gameDF = gameDF.drop(\"teamb\")"
   ]
  },
  {
   "cell_type": "code",
   "execution_count": 17,
   "metadata": {},
   "outputs": [
    {
     "name": "stdout",
     "output_type": "stream",
     "text": [
      "Total finalscoresDF = 116\n",
      "Total oddsDF = 111\n",
      "Total Games after joining odds and score data = 101\n",
      "+----------+--------+------------+-------+---------+-------+----------+--------+---------+-----+-----+-------------+----------+------------------+---------------+------------+\n",
      "|  dateOrig|      ts|   teamlonga|fscorea|teamlongb|fscoreb|timestring|timeleft|   gameid|teama|teamb|scorea-scoreb|      date|               key|fscorea-fscoreb|win-loss-enc|\n",
      "+----------+--------+------------+-------+---------+-------+----------+--------+---------+-----+-----+-------------+----------+------------------+---------------+------------+\n",
      "|2016-04-24|18:29:52|Golden State|    121|  Houston|     94|   (FINAL)|     0.0|400874348|  gst|  hou|           27|2016-04-24|2016-04-24.gst.hou|             27|         1.0|\n",
      "+----------+--------+------------+-------+---------+-------+----------+--------+---------+-----+-----+-------------+----------+------------------+---------------+------------+\n",
      "\n",
      "+------------------+------------+-----+-----------+---------+-------+---------+-----+-------+----------+\n",
      "|               key|   teamlonga|teama|teamaspread|overunder|teamaml|teamlongh|teamh|teamhml|   dateStr|\n",
      "+------------------+------------+-----+-----------+---------+-------+---------+-----+-------+----------+\n",
      "|2016-04-24.gst.hou|Golden State|  gst|       -8.5|    217.5| -425.0|  Houston|  hou|  340.0|2016-04-24|\n",
      "+------------------+------------+-----+-----------+---------+-------+---------+-----+-------+----------+\n",
      "\n"
     ]
    }
   ],
   "source": [
    "# Print Out the Game Dataframe ... notice we have the odds data merged with the win loss data ....\n",
    "#print(\"gameDF\")\n",
    "#gameDF.sort([\"key\"]).show(152)\n",
    "print \"Total finalscoresDF = {0}\".format(finalscoresDF.count())\n",
    "print \"Total oddsDF = {0}\".format(oddsDF.count())\n",
    "print \"Total Games after joining odds and score data = {0}\".format(gameDF.count())\n",
    "\n",
    "#gameDF.select(\"key\").sort([\"key\"]).show(144)\n",
    "\n",
    "finalscoresDF.filter(col(\"key\") == \"2016-04-24.gst.hou\").show()\n",
    "oddsDF.filter(col(\"key\") == \"2016-04-24.gst.hou\").show()\n"
   ]
  },
  {
   "cell_type": "markdown",
   "metadata": {},
   "source": [
    "### Join The Game Dataframe With The Real Time Score Dataframe"
   ]
  },
  {
   "cell_type": "code",
   "execution_count": 19,
   "metadata": {},
   "outputs": [
    {
     "name": "stdout",
     "output_type": "stream",
     "text": [
      "lrDF : Logistic Regression Data Frame\n",
      "+----------+--------+---------+------+-----------+------+-------------+--------------+---------+-----+-----+-------------+----------+-------------------+-----------+---------+-------+-----------+-----+-------+----------+------------------+-------+-------+------------+\n",
      "|  dateOrig|      ts|teamlonga|scorea|  teamlongb|scoreb|   timestring|      timeleft|   gameid|teama|teamb|scorea-scoreb|      date|     score-div-time|teamaspread|overunder|teamaml|  teamlongh|teamh|teamhml|   dateStr|               key|fscorea|fscoreb|win-loss-enc|\n",
      "+----------+--------+---------+------+-----------+------+-------------+--------------+---------+-----+-----+-------------+----------+-------------------+-----------+---------+-------+-----------+-----+-------+----------+------------------+-------+-------+------------+\n",
      "|2016-04-20|00:01:44|  Memphis|    68|San Antonio|    94|(0:00 IN 4TH)|           0.0|400874376|  mem|  san|          -26|2016-04-19|              -26.0|      18.25|    187.0| -110.0|San Antonio|  san| -110.0|2016-04-19|2016-04-19.mem.san|     68|     94|         0.0|\n",
      "|2016-04-20|00:00:13|  Memphis|    66|San Antonio|    94|(0:42 IN 4TH)|           0.7|400874376|  mem|  san|          -28|2016-04-19| -18.07392228230128|      18.25|    187.0| -110.0|San Antonio|  san| -110.0|2016-04-19|2016-04-19.mem.san|     68|     94|         0.0|\n",
      "|2016-04-19|23:59:43|  Memphis|    66|San Antonio|    94|(0:56 IN 4TH)|0.933333333333|400874376|  mem|  san|          -28|2016-04-19|-16.537483850123238|      18.25|    187.0| -110.0|San Antonio|  san| -110.0|2016-04-19|2016-04-19.mem.san|     68|     94|         0.0|\n",
      "+----------+--------+---------+------+-----------+------+-------------+--------------+---------+-----+-----+-------------+----------+-------------------+-----------+---------+-------+-----------+-----+-------+----------+------------------+-------+-------+------------+\n",
      "only showing top 3 rows\n",
      "\n",
      "Total Data Points in rtscoresDF = 14405\n",
      "Total Data Points in gameDF = 101\n",
      "Total Data Points in joined lrDF = 13544\n"
     ]
    }
   ],
   "source": [
    "cleanedDF = rtscoresDF.join(gameDF, rtscoresDF[\"key\"] == gameDF[\"key\"], \"inner\").drop(gameDF[\"key\"])\n",
    "print(\"cleanedDF : Cleaned Data Frame for use with ML algos\")\n",
    "cleanedDF.show(3)\n",
    "print \"Total Data Points in rtscoresDF = {0}\".format(rtscoresDF.count())\n",
    "print \"Total Data Points in gameDF = {0}\".format(gameDF.count())\n",
    "print \"Total Data Points in joined cleanedDF = {0}\".format(cleanedDF.count())\n",
    "\n"
   ]
  },
  {
   "cell_type": "markdown",
   "metadata": {},
   "source": [
    "### Save out cleanedDF for followon activities!"
   ]
  },
  {
   "cell_type": "code",
   "execution_count": 21,
   "metadata": {},
   "outputs": [
    {
     "data": {
      "text/html": [
       "<div>\n",
       "<table border=\"1\" class=\"dataframe\">\n",
       "  <thead>\n",
       "    <tr style=\"text-align: right;\">\n",
       "      <th></th>\n",
       "      <th>summary</th>\n",
       "      <th>ts</th>\n",
       "      <th>teamlonga</th>\n",
       "      <th>scorea</th>\n",
       "      <th>teamlongb</th>\n",
       "      <th>scoreb</th>\n",
       "      <th>timestring</th>\n",
       "      <th>timeleft</th>\n",
       "      <th>gameid</th>\n",
       "      <th>teama</th>\n",
       "      <th>...</th>\n",
       "      <th>overunder</th>\n",
       "      <th>teamaml</th>\n",
       "      <th>teamlongh</th>\n",
       "      <th>teamh</th>\n",
       "      <th>teamhml</th>\n",
       "      <th>dateStr</th>\n",
       "      <th>key</th>\n",
       "      <th>fscorea</th>\n",
       "      <th>fscoreb</th>\n",
       "      <th>win-loss-enc</th>\n",
       "    </tr>\n",
       "  </thead>\n",
       "  <tbody>\n",
       "    <tr>\n",
       "      <th>0</th>\n",
       "      <td>count</td>\n",
       "      <td>13544</td>\n",
       "      <td>13544</td>\n",
       "      <td>13544</td>\n",
       "      <td>13544</td>\n",
       "      <td>13544</td>\n",
       "      <td>13544</td>\n",
       "      <td>13544</td>\n",
       "      <td>13544</td>\n",
       "      <td>13544</td>\n",
       "      <td>...</td>\n",
       "      <td>13544</td>\n",
       "      <td>13544</td>\n",
       "      <td>13544</td>\n",
       "      <td>13544</td>\n",
       "      <td>13544</td>\n",
       "      <td>13544</td>\n",
       "      <td>13544</td>\n",
       "      <td>13544</td>\n",
       "      <td>13544</td>\n",
       "      <td>13544</td>\n",
       "    </tr>\n",
       "    <tr>\n",
       "      <th>1</th>\n",
       "      <td>mean</td>\n",
       "      <td>None</td>\n",
       "      <td>None</td>\n",
       "      <td>53.12728883638511</td>\n",
       "      <td>None</td>\n",
       "      <td>56.24424099232132</td>\n",
       "      <td>None</td>\n",
       "      <td>22.408939998030966</td>\n",
       "      <td>4.008397731416125E8</td>\n",
       "      <td>None</td>\n",
       "      <td>...</td>\n",
       "      <td>204.7699965544398</td>\n",
       "      <td>16.427323291986575</td>\n",
       "      <td>None</td>\n",
       "      <td>None</td>\n",
       "      <td>-111.34832151998425</td>\n",
       "      <td>None</td>\n",
       "      <td>None</td>\n",
       "      <td>99.69240992321323</td>\n",
       "      <td>104.9308180744241</td>\n",
       "      <td>0.36370348493797994</td>\n",
       "    </tr>\n",
       "    <tr>\n",
       "      <th>2</th>\n",
       "      <td>stddev</td>\n",
       "      <td>None</td>\n",
       "      <td>None</td>\n",
       "      <td>30.4415396003271</td>\n",
       "      <td>None</td>\n",
       "      <td>31.99507785697002</td>\n",
       "      <td>None</td>\n",
       "      <td>14.307379388238457</td>\n",
       "      <td>19236.70219546687</td>\n",
       "      <td>None</td>\n",
       "      <td>...</td>\n",
       "      <td>9.007478496254663</td>\n",
       "      <td>247.05648102157372</td>\n",
       "      <td>None</td>\n",
       "      <td>None</td>\n",
       "      <td>250.39664354049978</td>\n",
       "      <td>None</td>\n",
       "      <td>None</td>\n",
       "      <td>12.196762945195383</td>\n",
       "      <td>11.864155709175236</td>\n",
       "      <td>0.48108247527538817</td>\n",
       "    </tr>\n",
       "    <tr>\n",
       "      <th>3</th>\n",
       "      <td>min</td>\n",
       "      <td>00:00:03</td>\n",
       "      <td>Atlanta</td>\n",
       "      <td>0</td>\n",
       "      <td>Atlanta</td>\n",
       "      <td>0</td>\n",
       "      <td>(0:00 IN 1ST)</td>\n",
       "      <td>0.0</td>\n",
       "      <td>400829041</td>\n",
       "      <td>atl</td>\n",
       "      <td>...</td>\n",
       "      <td>180.5</td>\n",
       "      <td>-553.3333333333334</td>\n",
       "      <td>Atlanta</td>\n",
       "      <td>atl</td>\n",
       "      <td>-750.0</td>\n",
       "      <td>2016-04-05</td>\n",
       "      <td>2016-04-05.cha.tor</td>\n",
       "      <td>68</td>\n",
       "      <td>80</td>\n",
       "      <td>0.0</td>\n",
       "    </tr>\n",
       "    <tr>\n",
       "      <th>4</th>\n",
       "      <td>max</td>\n",
       "      <td>23:59:51</td>\n",
       "      <td>Washington</td>\n",
       "      <td>131</td>\n",
       "      <td>Washington</td>\n",
       "      <td>144</td>\n",
       "      <td>(HALFTIME)</td>\n",
       "      <td>48.0</td>\n",
       "      <td>400874419</td>\n",
       "      <td>wsh</td>\n",
       "      <td>...</td>\n",
       "      <td>225.25</td>\n",
       "      <td>541.6666666666666</td>\n",
       "      <td>Washington</td>\n",
       "      <td>wsh</td>\n",
       "      <td>410.0</td>\n",
       "      <td>2016-04-24</td>\n",
       "      <td>2016-04-24.san.mem</td>\n",
       "      <td>131</td>\n",
       "      <td>144</td>\n",
       "      <td>1.0</td>\n",
       "    </tr>\n",
       "  </tbody>\n",
       "</table>\n",
       "<p>5 rows × 25 columns</p>\n",
       "</div>"
      ],
      "text/plain": [
       "  summary        ts   teamlonga             scorea   teamlongb  \\\n",
       "0   count     13544       13544              13544       13544   \n",
       "1    mean      None        None  53.12728883638511        None   \n",
       "2  stddev      None        None   30.4415396003271        None   \n",
       "3     min  00:00:03     Atlanta                  0     Atlanta   \n",
       "4     max  23:59:51  Washington                131  Washington   \n",
       "\n",
       "              scoreb     timestring            timeleft               gameid  \\\n",
       "0              13544          13544               13544                13544   \n",
       "1  56.24424099232132           None  22.408939998030966  4.008397731416125E8   \n",
       "2  31.99507785697002           None  14.307379388238457    19236.70219546687   \n",
       "3                  0  (0:00 IN 1ST)                 0.0            400829041   \n",
       "4                144     (HALFTIME)                48.0            400874419   \n",
       "\n",
       "   teama         ...                   overunder             teamaml  \\\n",
       "0  13544         ...                       13544               13544   \n",
       "1   None         ...           204.7699965544398  16.427323291986575   \n",
       "2   None         ...           9.007478496254663  247.05648102157372   \n",
       "3    atl         ...                       180.5  -553.3333333333334   \n",
       "4    wsh         ...                      225.25   541.6666666666666   \n",
       "\n",
       "    teamlongh  teamh              teamhml     dateStr                 key  \\\n",
       "0       13544  13544                13544       13544               13544   \n",
       "1        None   None  -111.34832151998425        None                None   \n",
       "2        None   None   250.39664354049978        None                None   \n",
       "3     Atlanta    atl               -750.0  2016-04-05  2016-04-05.cha.tor   \n",
       "4  Washington    wsh                410.0  2016-04-24  2016-04-24.san.mem   \n",
       "\n",
       "              fscorea             fscoreb         win-loss-enc  \n",
       "0               13544               13544                13544  \n",
       "1   99.69240992321323   104.9308180744241  0.36370348493797994  \n",
       "2  12.196762945195383  11.864155709175236  0.48108247527538817  \n",
       "3                  68                  80                  0.0  \n",
       "4                 131                 144                  1.0  \n",
       "\n",
       "[5 rows x 25 columns]"
      ]
     },
     "execution_count": 21,
     "metadata": {},
     "output_type": "execute_result"
    }
   ],
   "source": [
    " cleanedDF.describe().toPandas()"
   ]
  },
  {
   "cell_type": "code",
   "execution_count": 26,
   "metadata": {},
   "outputs": [],
   "source": [
    "# Since the data is small, you can coalesce to a single partition\n",
    "# cleanedDF.coalesce(1).write.partitionBy('teama').mode('overwrite').format(\"csv\").save(\"/data2/nba-rt-prediction/sparkfiles/cleanedDF\")\n",
    "cleanedDF.coalesce(1).write.mode('overwrite').format(\"csv\").save(\"/data2/nba-rt-prediction/sparkfiles/cleanedDF\")"
   ]
  },
  {
   "cell_type": "code",
   "execution_count": null,
   "metadata": {
    "collapsed": true
   },
   "outputs": [],
   "source": []
  }
 ],
 "metadata": {
  "kernelspec": {
   "display_name": "Python 2",
   "language": "python",
   "name": "python2"
  },
  "language_info": {
   "codemirror_mode": {
    "name": "ipython",
    "version": 2
   },
   "file_extension": ".py",
   "mimetype": "text/x-python",
   "name": "python",
   "nbconvert_exporter": "python",
   "pygments_lexer": "ipython2",
   "version": "2.7.12"
  }
 },
 "nbformat": 4,
 "nbformat_minor": 1
}
