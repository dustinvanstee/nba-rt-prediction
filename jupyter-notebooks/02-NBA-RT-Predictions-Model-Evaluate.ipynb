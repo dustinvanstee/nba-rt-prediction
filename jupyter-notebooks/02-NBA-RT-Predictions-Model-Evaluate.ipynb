{
 "cells": [
  {
   "cell_type": "markdown",
   "metadata": {},
   "source": [
    "#Load in Files"
   ]
  },
  {
   "cell_type": "markdown",
   "metadata": {},
   "source": [
    "### Imports"
   ]
  },
  {
   "cell_type": "code",
   "execution_count": 1,
   "metadata": {},
   "outputs": [
    {
     "data": {
      "text/plain": [
       "u'2.2.0'"
      ]
     },
     "execution_count": 1,
     "metadata": {},
     "output_type": "execute_result"
    }
   ],
   "source": [
    "spark.version"
   ]
  },
  {
   "cell_type": "code",
   "execution_count": 38,
   "metadata": {},
   "outputs": [],
   "source": [
    "import re\n",
    "import datetime\n",
    "from pyspark.sql.functions import *\n",
    "from pyspark.sql.types import StructType, StructField\n",
    "from pyspark.sql.types import DoubleType, IntegerType, StringType,DateType\n",
    "import pandas as pd\n",
    "pd.set_option('display.max_colwidth', 80)\n",
    "\n",
    "\n",
    "from pyspark.sql import SparkSession\n",
    "from pyspark.sql.types import DoubleType\n",
    "from pyspark.ml import Pipeline\n",
    "from pyspark.ml.feature import OneHotEncoder, StringIndexer, VectorAssembler\n",
    "from pyspark.ml.classification import LogisticRegression, RandomForestClassifier\n",
    "from pyspark.ml.evaluation import BinaryClassificationEvaluator, RegressionEvaluator\n",
    "from pyspark.ml.tuning import ParamGridBuilder, CrossValidator\n",
    "from pyspark.ml.feature import StandardScaler\n",
    "\n",
    "import numpy as np\n",
    "import seaborn as sns\n",
    "sns.set_palette(\"deep\", desat=0.6)\n",
    "sns.set_context(rc={\"figure.figsize\": (8,4)})\n",
    "\n",
    "import matplotlib.pyplot as plt\n",
    "%matplotlib notebook\n",
    "%matplotlib inline"
   ]
  },
  {
   "cell_type": "markdown",
   "metadata": {},
   "source": [
    "### Load In NBA Score Data Set"
   ]
  },
  {
   "cell_type": "code",
   "execution_count": 5,
   "metadata": {},
   "outputs": [
    {
     "name": "stdout",
     "output_type": "stream",
     "text": [
      "root\n",
      " |-- dateOrig: timestamp (nullable = true)\n",
      " |-- ts: string (nullable = true)\n",
      " |-- away_team_full: string (nullable = true)\n",
      " |-- away_score: double (nullable = true)\n",
      " |-- home_team_full: string (nullable = true)\n",
      " |-- home_score: double (nullable = true)\n",
      " |-- timestring: string (nullable = true)\n",
      " |-- timeleft: double (nullable = true)\n",
      " |-- away_team: string (nullable = true)\n",
      " |-- home_team: string (nullable = true)\n",
      " |-- score_diff_amh: double (nullable = true)\n",
      " |-- date: timestamp (nullable = true)\n",
      " |-- time_elapsed: double (nullable = true)\n",
      " |-- pct_complete: double (nullable = true)\n",
      " |-- pct_left: double (nullable = true)\n",
      " |-- cf1: double (nullable = true)\n",
      " |-- cf2: double (nullable = true)\n",
      " |-- away_team_spread: double (nullable = true)\n",
      " |-- overunder: double (nullable = true)\n",
      " |-- away_team_ml: double (nullable = true)\n",
      " |-- home_team_spread: double (nullable = true)\n",
      " |-- home_team_ml: double (nullable = true)\n",
      " |-- dateStr: timestamp (nullable = true)\n",
      " |-- away_team_vegas_fscore: double (nullable = true)\n",
      " |-- home_team_vegas_fscore: double (nullable = true)\n",
      " |-- final_away_score: double (nullable = true)\n",
      " |-- final_home_score: double (nullable = true)\n",
      " |-- away_win: double (nullable = true)\n",
      " |-- home_win: double (nullable = true)\n",
      " |-- dfa: double (nullable = true)\n",
      " |-- outlier: double (nullable = true)\n",
      " |-- key: date (nullable = true)\n",
      "\n"
     ]
    }
   ],
   "source": [
    "cleaned_dir = '/data2/nba-rt-prediction/sparkfiles/cleanedDF'\n",
    "df = spark.read.format('csv')\\\n",
    "                    .option(\"header\", \"true\")\\\n",
    "                    .option(\"inferSchema\", \"true\")\\\n",
    "                    .option(\"dateFormat\", \"yyyy-MM-dd\")\\\n",
    "                    .load(cleaned_dir).coalesce(2)\n",
    "                \n",
    "df.printSchema()\n"
   ]
  },
  {
   "cell_type": "code",
   "execution_count": null,
   "metadata": {
    "collapsed": true
   },
   "outputs": [],
   "source": [
    "# Create Train / cv or Dev / Test Sets"
   ]
  },
  {
   "cell_type": "code",
   "execution_count": 9,
   "metadata": {},
   "outputs": [
    {
     "name": "stdout",
     "output_type": "stream",
     "text": [
      "Training set size: 6800\n",
      "CrossVal set size: 2195\n",
      "Testing set size: 2375\n"
     ]
    }
   ],
   "source": [
    "trainingData, cvData, testData = df.randomSplit([0.6, 0.2, 0.2], seed = 82)\n",
    "print \"Training set size: \" + str(trainingData.count())\n",
    "print \"CrossVal set size: \" + str(cvData.count())\n",
    "print \"Testing set size: \" + str(testData.count())\n",
    "#print \"Distribution of Default and Non-Default in trainingData is: \", trainingData.groupBy(\"label\").count().take(3)\n"
   ]
  },
  {
   "cell_type": "markdown",
   "metadata": {},
   "source": [
    "### Logistic Regression"
   ]
  },
  {
   "cell_type": "code",
   "execution_count": 53,
   "metadata": {},
   "outputs": [],
   "source": [
    "#Vector Assembler\n",
    "#feature_cols  = [\"home_score\", \"away_score\", \"score_diff_amh\", \"home_team_spread\",\"pct_complete\", \"cf1\", \"cf2\"]\n",
    "feature_cols = [\"home_score\", \"away_score\", \"score_diff_amh\", \"home_team_spread\",\"pct_complete\"]\n",
    "\n",
    "\n",
    "assembler = VectorAssembler(inputCols=feature_cols, outputCol=\"features\")\n",
    "scaler = StandardScaler(withMean=False, withStd=False, inputCol=\"features\", outputCol=\"features_scaled\")\n",
    "# Create initial LogisticRegression model\n",
    "lr = LogisticRegression(labelCol=\"home_win\", featuresCol=\"features_scaled\", threshold=0.3)\n",
    "pipeline_lr = Pipeline(stages=[assembler,scaler, lr])\n",
    "model_lr = pipeline_lr.fit(trainingData)\n"
   ]
  },
  {
   "cell_type": "code",
   "execution_count": 54,
   "metadata": {},
   "outputs": [
    {
     "name": "stdout",
     "output_type": "stream",
     "text": [
      "areaUnderPR for Logistic Regression: 0.941923195083\n",
      "Cross tab for prediction vs actual table\n",
      "+-------------------+---+----+\n",
      "|home_win_prediction|0.0| 1.0|\n",
      "+-------------------+---+----+\n",
      "|                1.0| 67|1471|\n",
      "|                0.0|401| 436|\n",
      "+-------------------+---+----+\n",
      "\n"
     ]
    }
   ],
   "source": [
    "predictions = model_lr.transform(testData)\n",
    "lr_evaluator = BinaryClassificationEvaluator(labelCol=\"home_win\",metricName=\"areaUnderPR\")\n",
    "\n",
    "rf_uroc = lr_evaluator.evaluate(predictions)\n",
    "\n",
    "print \"areaUnderPR for Logistic Regression: \" + str(rf_uroc) #0.6918242957971713\n",
    "print \"Cross tab for prediction vs actual table\"\n",
    "model_lr.transform(testData).stat.crosstab(\"home_win\", \"prediction\").show()"
   ]
  },
  {
   "cell_type": "markdown",
   "metadata": {},
   "source": [
    "### Now search for best hyper parameters"
   ]
  },
  {
   "cell_type": "code",
   "execution_count": 55,
   "metadata": {},
   "outputs": [],
   "source": [
    "# Create ParamGrid for Cross Validation\n",
    "paramGrid = (ParamGridBuilder()\n",
    "             .addGrid(lr.regParam, [0.001,0.003,0.01,0.03,0.1,0.3])\n",
    "             .addGrid(lr.elasticNetParam, [0.0, 0.5, 1.0])\n",
    "             .addGrid(lr.maxIter, [100])\n",
    "             .build())\n",
    "\n",
    "# Create 5-fold CrossValidator\n",
    "lr_cv = CrossValidator(estimator=pipeline_lr, estimatorParamMaps=paramGrid, evaluator=lr_evaluator, numFolds=3)\n",
    "\n",
    "# Run cross validations\n",
    "lrCvModel = lr_cv.fit(trainingData)"
   ]
  },
  {
   "cell_type": "code",
   "execution_count": 56,
   "metadata": {},
   "outputs": [
    {
     "name": "stdout",
     "output_type": "stream",
     "text": [
      "areaUnderROC for Logistic Regression: 0.942079865694\n",
      "Cross tab for prediction vs actual table\n",
      "+-------------------+---+----+\n",
      "|home_win_prediction|0.0| 1.0|\n",
      "+-------------------+---+----+\n",
      "|                1.0| 67|1471|\n",
      "|                0.0|396| 441|\n",
      "+-------------------+---+----+\n",
      "\n"
     ]
    }
   ],
   "source": [
    "predictions = lrCvModel.transform(testData)\n",
    "rf_uroc = lr_evaluator.evaluate(predictions)\n",
    "\n",
    "print \"areaUnderPR for Logistic Regression: \" + str(rf_uroc) #0.6918242957971713\n",
    "print \"Cross tab for prediction vs actual table\"\n",
    "lrCvModel.transform(testData).stat.crosstab(\"home_win\", \"prediction\").show()"
   ]
  },
  {
   "cell_type": "markdown",
   "metadata": {},
   "source": [
    "### Linear Regression"
   ]
  },
  {
   "cell_type": "code",
   "execution_count": 57,
   "metadata": {},
   "outputs": [],
   "source": [
    "from pyspark.ml.regression import LinearRegression\n",
    "# leverage assembler from above ...\n",
    "linr_home = LinearRegression(maxIter=100, regParam=0.1, solver=\"normal\", labelCol=\"final_home_score\",featuresCol=\"features_scaled\")\n",
    "pipeline_linr = Pipeline(stages=[assembler,scaler,linr_home])\n",
    "model_linr_home = pipeline_linr.fit(trainingData)\n"
   ]
  },
  {
   "cell_type": "code",
   "execution_count": 58,
   "metadata": {},
   "outputs": [
    {
     "name": "stdout",
     "output_type": "stream",
     "text": [
      "RMSE for Linear Regression: 15.7604205578\n"
     ]
    }
   ],
   "source": [
    "predictions = model_linr_home.transform(testData)\n",
    "\n",
    "linr_home_evaluator = RegressionEvaluator(labelCol=\"final_home_score\",metricName=\"rmse\")\n",
    "\n",
    "linr_home_rmse = linr_home_evaluator.evaluate(predictions)\n",
    "\n",
    "print \"RMSE for Linear Regression: \" + str(linr_home_rmse) \n"
   ]
  },
  {
   "cell_type": "code",
   "execution_count": 59,
   "metadata": {},
   "outputs": [
    {
     "data": {
      "text/plain": [
       "<matplotlib.collections.PathCollection at 0x3fff78985610>"
      ]
     },
     "execution_count": 59,
     "metadata": {},
     "output_type": "execute_result"
    },
    {
     "data": {
      "image/png": "[encoded data removed]",
      "text/plain": [
       "<matplotlib.figure.Figure at 0x3fff7adb8510>"
      ]
     },
     "metadata": {},
     "output_type": "display_data"
    }
   ],
   "source": [
    "### Plot the residuals\n",
    "predictions_pd = predictions.toPandas()\n",
    "\n",
    "plt.xlim(0, 100)\n",
    "plt.ylim(-40, 40)\n",
    "plt.scatter(predictions_pd.pct_complete,predictions_pd.prediction-predictions_pd.final_home_score)"
   ]
  },
  {
   "cell_type": "code",
   "execution_count": null,
   "metadata": {
    "collapsed": true
   },
   "outputs": [],
   "source": [
    "Record Results here ...\n",
    "wo cfs\n",
    "RMSE for Linear Regression: 15.7604205578\n",
    "areaUnderROC for Logistic Regression: 0.942079865694\n",
    "Cross tab for prediction vs actual table\n",
    "+-------------------+---+----+\n",
    "|home_win_prediction|0.0| 1.0|\n",
    "+-------------------+---+----+\n",
    "|                1.0| 67|1471|\n",
    "|                0.0|396| 441|\n",
    "+-------------------+---+----+\n",
    "\n",
    "w cfs (explore this ... sigh )\n",
    "RMSE for Linear Regression: 15.7605249792\n",
    "    areaUnderROC for Logistic Regression: 0.942253516099\n",
    "Cross tab for prediction vs actual table\n",
    "+-------------------+---+----+\n",
    "|home_win_prediction|0.0| 1.0|\n",
    "+-------------------+---+----+\n",
    "|                1.0| 67|1471|\n",
    "|                0.0|395| 442|\n",
    "+-------------------+---+----+\n",
    "\n",
    "w cfs + momentum\n",
    "\n",
    "\n"
   ]
  },
  {
   "cell_type": "code",
   "execution_count": 61,
   "metadata": {
    "collapsed": true
   },
   "outputs": [],
   "source": [
    "#pyspark.ml.util.MLWriter\n",
    "\n",
    "model_linr_home.write().overwrite().save(\"/data2/nba-rt-prediction/spark_models/\")\n",
    "#model_in = PipelineModel.load(outpath)\n"
   ]
  },
  {
   "cell_type": "code",
   "execution_count": null,
   "metadata": {
    "collapsed": true
   },
   "outputs": [],
   "source": []
  }
 ],
 "metadata": {
  "kernelspec": {
   "display_name": "Python 2",
   "language": "python",
   "name": "python2"
  },
  "language_info": {
   "codemirror_mode": {
    "name": "ipython",
    "version": 2
   },
   "file_extension": ".py",
   "mimetype": "text/x-python",
   "name": "python",
   "nbconvert_exporter": "python",
   "pygments_lexer": "ipython2",
   "version": "2.7.12"
  }
 },
 "nbformat": 4,
 "nbformat_minor": 1
}
